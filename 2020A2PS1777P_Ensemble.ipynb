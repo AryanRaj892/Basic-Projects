{
 "cells": [
  {
   "cell_type": "code",
   "execution_count": 2,
   "metadata": {},
   "outputs": [
    {
     "name": "stderr",
     "output_type": "stream",
     "text": [
      "d:\\Python\\lib\\site-packages\\scipy\\__init__.py:146: UserWarning: A NumPy version >=1.16.5 and <1.23.0 is required for this version of SciPy (detected version 1.24.2\n",
      "  warnings.warn(f\"A NumPy version >={np_minversion} and <{np_maxversion}\"\n"
     ]
    }
   ],
   "source": [
    "import numpy as np\n",
    "import pandas as pd\n",
    "from sklearn import preprocessing\n",
    "from sklearn.tree import DecisionTreeClassifier\n",
    "from sklearn.neighbors import KNeighborsClassifier\n",
    "from sklearn.naive_bayes import GaussianNB\n",
    "from sklearn.model_selection import train_test_split, cross_val_score\n",
    "from sklearn.ensemble import BaggingClassifier, VotingClassifier\n",
    "from sklearn.metrics import confusion_matrix, classification_report, accuracy_score"
   ]
  },
  {
   "cell_type": "code",
   "execution_count": null,
   "metadata": {},
   "outputs": [],
   "source": [
    "df = pd.read_csv('D:\\BITS PILANI\\Data Mining\\Lab\\Python\\Lab 5 - Ensemble\\letter-recognition.csv')\n",
    "df.head()"
   ]
  },
  {
   "cell_type": "code",
   "execution_count": null,
   "metadata": {},
   "outputs": [
    {
     "data": {
      "text/html": [
       "<div>\n",
       "<style scoped>\n",
       "    .dataframe tbody tr th:only-of-type {\n",
       "        vertical-align: middle;\n",
       "    }\n",
       "\n",
       "    .dataframe tbody tr th {\n",
       "        vertical-align: top;\n",
       "    }\n",
       "\n",
       "    .dataframe thead th {\n",
       "        text-align: right;\n",
       "    }\n",
       "</style>\n",
       "<table border=\"1\" class=\"dataframe\">\n",
       "  <thead>\n",
       "    <tr style=\"text-align: right;\">\n",
       "      <th></th>\n",
       "      <th>xbox</th>\n",
       "      <th>ybox</th>\n",
       "      <th>width</th>\n",
       "      <th>height</th>\n",
       "      <th>onpix</th>\n",
       "      <th>xbar</th>\n",
       "      <th>ybar</th>\n",
       "      <th>x2bar</th>\n",
       "      <th>y2bar</th>\n",
       "      <th>xybar</th>\n",
       "      <th>x2ybar</th>\n",
       "      <th>xy2bar</th>\n",
       "      <th>xedge</th>\n",
       "      <th>xedgey</th>\n",
       "      <th>yedge</th>\n",
       "      <th>yedgex</th>\n",
       "    </tr>\n",
       "  </thead>\n",
       "  <tbody>\n",
       "    <tr>\n",
       "      <th>0</th>\n",
       "      <td>2</td>\n",
       "      <td>8</td>\n",
       "      <td>3</td>\n",
       "      <td>5</td>\n",
       "      <td>1</td>\n",
       "      <td>8</td>\n",
       "      <td>13</td>\n",
       "      <td>0</td>\n",
       "      <td>6</td>\n",
       "      <td>6</td>\n",
       "      <td>10</td>\n",
       "      <td>8</td>\n",
       "      <td>0</td>\n",
       "      <td>8</td>\n",
       "      <td>0</td>\n",
       "      <td>8</td>\n",
       "    </tr>\n",
       "    <tr>\n",
       "      <th>1</th>\n",
       "      <td>5</td>\n",
       "      <td>12</td>\n",
       "      <td>3</td>\n",
       "      <td>7</td>\n",
       "      <td>2</td>\n",
       "      <td>10</td>\n",
       "      <td>5</td>\n",
       "      <td>5</td>\n",
       "      <td>4</td>\n",
       "      <td>13</td>\n",
       "      <td>3</td>\n",
       "      <td>9</td>\n",
       "      <td>2</td>\n",
       "      <td>8</td>\n",
       "      <td>4</td>\n",
       "      <td>10</td>\n",
       "    </tr>\n",
       "    <tr>\n",
       "      <th>2</th>\n",
       "      <td>4</td>\n",
       "      <td>11</td>\n",
       "      <td>6</td>\n",
       "      <td>8</td>\n",
       "      <td>6</td>\n",
       "      <td>10</td>\n",
       "      <td>6</td>\n",
       "      <td>2</td>\n",
       "      <td>6</td>\n",
       "      <td>10</td>\n",
       "      <td>3</td>\n",
       "      <td>7</td>\n",
       "      <td>3</td>\n",
       "      <td>7</td>\n",
       "      <td>3</td>\n",
       "      <td>9</td>\n",
       "    </tr>\n",
       "    <tr>\n",
       "      <th>3</th>\n",
       "      <td>7</td>\n",
       "      <td>11</td>\n",
       "      <td>6</td>\n",
       "      <td>6</td>\n",
       "      <td>3</td>\n",
       "      <td>5</td>\n",
       "      <td>9</td>\n",
       "      <td>4</td>\n",
       "      <td>6</td>\n",
       "      <td>4</td>\n",
       "      <td>4</td>\n",
       "      <td>10</td>\n",
       "      <td>6</td>\n",
       "      <td>10</td>\n",
       "      <td>2</td>\n",
       "      <td>8</td>\n",
       "    </tr>\n",
       "    <tr>\n",
       "      <th>4</th>\n",
       "      <td>2</td>\n",
       "      <td>1</td>\n",
       "      <td>3</td>\n",
       "      <td>1</td>\n",
       "      <td>1</td>\n",
       "      <td>8</td>\n",
       "      <td>6</td>\n",
       "      <td>6</td>\n",
       "      <td>6</td>\n",
       "      <td>6</td>\n",
       "      <td>5</td>\n",
       "      <td>9</td>\n",
       "      <td>1</td>\n",
       "      <td>7</td>\n",
       "      <td>5</td>\n",
       "      <td>10</td>\n",
       "    </tr>\n",
       "  </tbody>\n",
       "</table>\n",
       "</div>"
      ],
      "text/plain": [
       "   xbox   ybox   width   height  onpix   xbar   ybar   x2bar  y2bar   xybar   \\\n",
       "0      2      8       3       5       1      8     13      0       6       6   \n",
       "1      5     12       3       7       2     10      5      5       4      13   \n",
       "2      4     11       6       8       6     10      6      2       6      10   \n",
       "3      7     11       6       6       3      5      9      4       6       4   \n",
       "4      2      1       3       1       1      8      6      6       6       6   \n",
       "\n",
       "   x2ybar  xy2bar  xedge   xedgey  yedge   yedgex  \n",
       "0      10       8       0       8       0       8  \n",
       "1       3       9       2       8       4      10  \n",
       "2       3       7       3       7       3       9  \n",
       "3       4      10       6      10       2       8  \n",
       "4       5       9       1       7       5      10  "
      ]
     },
     "execution_count": 51,
     "metadata": {},
     "output_type": "execute_result"
    }
   ],
   "source": [
    "X = df[df.columns[1:]]\n",
    "Y = df[df.columns[0]]\n",
    "X.head()"
   ]
  },
  {
   "cell_type": "code",
   "execution_count": null,
   "metadata": {},
   "outputs": [
    {
     "data": {
      "text/plain": [
       "0    T\n",
       "1    I\n",
       "2    D\n",
       "3    N\n",
       "4    G\n",
       "Name: letter, dtype: object"
      ]
     },
     "execution_count": 52,
     "metadata": {},
     "output_type": "execute_result"
    }
   ],
   "source": [
    "Y.head()"
   ]
  },
  {
   "cell_type": "code",
   "execution_count": null,
   "metadata": {},
   "outputs": [],
   "source": [
    "X_train, X_test, Y_train, Y_test = train_test_split(X, Y, test_size=0.3, random_state=30)"
   ]
  },
  {
   "cell_type": "markdown",
   "metadata": {},
   "source": [
    "<h1>Q1</h1>"
   ]
  },
  {
   "cell_type": "code",
   "execution_count": null,
   "metadata": {},
   "outputs": [
    {
     "name": "stderr",
     "output_type": "stream",
     "text": [
      "C:\\Users\\HP\\AppData\\Local\\Temp/ipykernel_12176/2142908046.py:5: DeprecationWarning: Seeding based on hashing is deprecated\n",
      "since Python 3.9 and will be removed in a subsequent version. The only \n",
      "supported seed types are: None, int, float, str, bytes, and bytearray.\n",
      "  model = BaggingClassifier(base_estimator=dtree, n_estimators=5, random_state=seed(int))\n"
     ]
    }
   ],
   "source": [
    "from random import seed\n",
    "\n",
    "\n",
    "dtree = DecisionTreeClassifier(criterion='entropy', random_state=30)\n",
    "model = BaggingClassifier(base_estimator=dtree, n_estimators=5, random_state=seed(int))"
   ]
  },
  {
   "cell_type": "code",
   "execution_count": null,
   "metadata": {},
   "outputs": [
    {
     "name": "stdout",
     "output_type": "stream",
     "text": [
      "Cross Validation Score: 0.8884285714285716\n"
     ]
    }
   ],
   "source": [
    "model.fit(X_train, Y_train)\n",
    "score = cross_val_score(model, X_train, Y_train, scoring='accuracy', cv=5)\n",
    "print('Cross Validation Score:', score.mean())"
   ]
  },
  {
   "cell_type": "code",
   "execution_count": null,
   "metadata": {},
   "outputs": [
    {
     "name": "stdout",
     "output_type": "stream",
     "text": [
      "Classification Report:\n",
      "\n",
      "               precision    recall  f1-score   support\n",
      "\n",
      "           A       0.94      0.95      0.94       229\n",
      "           B       0.77      0.88      0.82       228\n",
      "           C       0.91      0.88      0.89       220\n",
      "           D       0.76      0.94      0.84       219\n",
      "           E       0.82      0.90      0.86       232\n",
      "           F       0.86      0.85      0.85       225\n",
      "           G       0.82      0.82      0.82       234\n",
      "           H       0.78      0.81      0.79       206\n",
      "           I       0.92      0.93      0.93       236\n",
      "           J       0.92      0.89      0.91       209\n",
      "           K       0.88      0.86      0.87       213\n",
      "           L       0.95      0.94      0.95       239\n",
      "           M       0.94      0.93      0.94       240\n",
      "           N       0.94      0.89      0.91       239\n",
      "           O       0.89      0.87      0.88       243\n",
      "           P       0.92      0.95      0.93       243\n",
      "           Q       0.89      0.86      0.88       228\n",
      "           R       0.88      0.88      0.88       230\n",
      "           S       0.91      0.88      0.89       220\n",
      "           T       0.94      0.88      0.91       234\n",
      "           U       0.96      0.91      0.93       235\n",
      "           V       0.92      0.88      0.90       228\n",
      "           W       0.97      0.92      0.94       250\n",
      "           X       0.91      0.90      0.90       237\n",
      "           Y       0.93      0.89      0.91       252\n",
      "           Z       0.94      0.90      0.92       231\n",
      "\n",
      "    accuracy                           0.89      6000\n",
      "   macro avg       0.89      0.89      0.89      6000\n",
      "weighted avg       0.90      0.89      0.89      6000\n",
      "\n",
      "\n",
      "confusion_matrix:\n",
      "\n",
      " [[217   0   0   1   0   0   0   1   5   0   1   1   0   0   0   0   0   0\n",
      "    0   0   0   0   0   2   1   0]\n",
      " [  0 201   0   3   2   2   0   2   0   1   0   0   1   0   0   1   1   3\n",
      "    3   0   1   4   0   3   0   0]\n",
      " [  0   1 193   1   9   0   9   1   0   0   1   0   0   0   3   0   1   1\n",
      "    0   0   0   0   0   0   0   0]\n",
      " [  0   4   1 206   0   1   0   3   0   0   0   0   0   0   0   2   1   1\n",
      "    0   0   0   0   0   0   0   0]\n",
      " [  0   3   4   0 209   0   3   0   0   0   3   0   0   0   0   0   1   0\n",
      "    2   0   0   0   0   5   1   1]\n",
      " [  0   2   1   1   2 191   1   3   1   0   0   0   0   0   0   6   0   0\n",
      "    3   5   1   1   2   0   4   1]\n",
      " [  1   3   4  10   5   0 193   2   0   1   2   2   0   0   2   1   5   2\n",
      "    0   0   0   0   1   0   0   0]\n",
      " [  0   7   0  13   0   0   7 166   0   0   5   0   1   1   0   0   1   3\n",
      "    0   0   1   0   0   1   0   0]\n",
      " [  1   1   0   0   2   2   0   0 220   4   0   0   0   0   0   1   0   1\n",
      "    2   0   0   0   0   0   1   1]\n",
      " [  1   0   0   4   1   2   0   3   8 187   0   0   0   1   0   0   0   0\n",
      "    0   0   0   0   0   1   0   1]\n",
      " [  1   3   2   1   5   0   0  10   0   0 183   0   0   0   0   0   0   5\n",
      "    1   0   0   0   0   2   0   0]\n",
      " [  0   1   1   0   4   0   1   1   0   0   2 225   0   0   1   1   0   0\n",
      "    0   1   1   0   0   0   0   0]\n",
      " [  2   1   1   0   1   0   2   3   0   0   0   1 224   3   0   0   0   0\n",
      "    0   0   1   0   0   0   1   0]\n",
      " [  1   1   0   7   0   0   0   1   0   2   4   0   4 212   1   0   0   1\n",
      "    0   0   3   1   1   0   0   0]\n",
      " [  1   5   0   8   0   0   4   1   0   0   0   0   0   0 212   0   7   2\n",
      "    1   0   0   0   1   1   0   0]\n",
      " [  0   1   0   0   1   5   0   2   0   0   0   0   0   0   1 230   1   0\n",
      "    0   0   0   0   0   1   1   0]\n",
      " [  3   4   0   1   3   0   4   2   1   0   0   3   0   0   7   0 196   0\n",
      "    0   0   0   0   0   0   1   3]\n",
      " [  1   7   0   6   1   1   1   2   0   0   3   0   0   0   1   2   1 203\n",
      "    0   0   0   1   0   0   0   0]\n",
      " [  1   4   0   1   3   4   1   0   1   1   1   1   1   0   1   1   1   1\n",
      "  193   1   0   0   0   0   0   3]\n",
      " [  1   0   1   0   1   5   2   0   0   0   0   1   0   2   1   0   0   1\n",
      "    4 206   0   1   0   2   5   1]\n",
      " [  0   1   2   1   0   0   1   3   0   1   0   0   4   3   3   0   0   0\n",
      "    0   0 215   0   0   1   0   0]\n",
      " [  0   9   0   0   0   3   0   1   0   0   0   0   1   2   2   4   0   1\n",
      "    0   0   0 201   2   0   2   0]\n",
      " [  1   0   0   0   0   0   3   1   0   0   0   0   2   1   4   1   0   1\n",
      "    0   1   1   3 230   0   1   0]\n",
      " [  0   2   1   3   4   1   0   2   1   1   2   0   0   0   0   0   0   5\n",
      "    1   0   0   0   0 213   0   1]\n",
      " [  0   0   1   0   0   5   1   2   0   1   0   1   0   1   0   1   0   0\n",
      "    0   5   1   6   0   0 225   2]\n",
      " [  0   0   0   4   2   1   1   0   2   5   0   2   0   0   0   0   3   0\n",
      "    2   0   0   0   0   2   0 207]]\n",
      "\n",
      "\n",
      "Accuracy: 0.893\n"
     ]
    }
   ],
   "source": [
    "q1pred = model.predict(X_test)\n",
    "print('Classification Report:\\n\\n', classification_report(Y_test, q1pred))\n",
    "print('\\nconfusion_matrix:\\n\\n', confusion_matrix(Y_test, q1pred))\n",
    "print('\\n\\nAccuracy:', accuracy_score(Y_test, q1pred))"
   ]
  },
  {
   "cell_type": "code",
   "execution_count": null,
   "metadata": {},
   "outputs": [
    {
     "name": "stdout",
     "output_type": "stream",
     "text": [
      "Accuracy from Decision Tree= 0.8651666666666666\n"
     ]
    }
   ],
   "source": [
    "dtree.fit(X_train, Y_train)\n",
    "print('Accuracy from Decision Tree=', accuracy_score(Y_test, dtree.predict(X_test)))"
   ]
  },
  {
   "cell_type": "code",
   "execution_count": null,
   "metadata": {},
   "outputs": [
    {
     "name": "stdout",
     "output_type": "stream",
     "text": [
      "Accuracy of Bagging Classifier is slightly better than that of Decision Tree\n"
     ]
    }
   ],
   "source": [
    "print('Accuracy of Bagging Classifier is slightly better than that of Decision Tree')"
   ]
  },
  {
   "cell_type": "markdown",
   "metadata": {},
   "source": [
    "<h1>Q2</h1>"
   ]
  },
  {
   "cell_type": "code",
   "execution_count": null,
   "metadata": {},
   "outputs": [],
   "source": [
    "model1 = DecisionTreeClassifier(criterion='entropy', random_state=30)\n",
    "model2 = KNeighborsClassifier(n_neighbors=3, metric='euclidean')\n",
    "model3 = KNeighborsClassifier(n_neighbors=5, metric='euclidean')\n",
    "model4 = KNeighborsClassifier(n_neighbors=5, metric='manhattan')\n",
    "model5 = GaussianNB()"
   ]
  },
  {
   "cell_type": "code",
   "execution_count": null,
   "metadata": {},
   "outputs": [
    {
     "data": {
      "text/plain": [
       "VotingClassifier(estimators=[('model1',\n",
       "                              DecisionTreeClassifier(criterion='entropy',\n",
       "                                                     random_state=30)),\n",
       "                             ('model2',\n",
       "                              KNeighborsClassifier(metric='euclidean',\n",
       "                                                   n_neighbors=3)),\n",
       "                             ('model3',\n",
       "                              KNeighborsClassifier(metric='euclidean')),\n",
       "                             ('model4',\n",
       "                              KNeighborsClassifier(metric='manhattan')),\n",
       "                             ('model5', GaussianNB())])"
      ]
     },
     "execution_count": 60,
     "metadata": {},
     "output_type": "execute_result"
    }
   ],
   "source": [
    "votingmodel = VotingClassifier(estimators=[('model1', model1), ('model2', model2), ('model3', model3), ('model4', model4), ('model5', model5)], voting='hard')\n",
    "votingmodel.fit(X_train, Y_train)"
   ]
  },
  {
   "cell_type": "code",
   "execution_count": null,
   "metadata": {},
   "outputs": [
    {
     "name": "stdout",
     "output_type": "stream",
     "text": [
      "Cross Validation Score = 0.9454285714285714\n"
     ]
    }
   ],
   "source": [
    "scores = cross_val_score(votingmodel, X_train, Y_train, scoring='accuracy', cv=5)\n",
    "print('Cross Validation Score =', scores.mean())"
   ]
  },
  {
   "cell_type": "code",
   "execution_count": null,
   "metadata": {},
   "outputs": [
    {
     "name": "stdout",
     "output_type": "stream",
     "text": [
      "Classification Report:\n",
      "\n",
      "               precision    recall  f1-score   support\n",
      "\n",
      "           A       0.99      1.00      0.99       229\n",
      "           B       0.83      0.96      0.89       228\n",
      "           C       0.95      0.96      0.95       220\n",
      "           D       0.87      0.97      0.92       219\n",
      "           E       0.94      0.94      0.94       232\n",
      "           F       0.93      0.92      0.92       225\n",
      "           G       0.95      0.91      0.93       234\n",
      "           H       0.89      0.90      0.89       206\n",
      "           I       0.94      0.98      0.96       236\n",
      "           J       0.98      0.92      0.95       209\n",
      "           K       0.94      0.90      0.92       213\n",
      "           L       0.99      0.95      0.97       239\n",
      "           M       0.96      0.98      0.97       240\n",
      "           N       0.97      0.94      0.96       239\n",
      "           O       0.92      0.95      0.94       243\n",
      "           P       0.95      0.94      0.95       243\n",
      "           Q       0.97      0.95      0.96       228\n",
      "           R       0.94      0.94      0.94       230\n",
      "           S       0.99      0.97      0.98       220\n",
      "           T       0.97      0.97      0.97       234\n",
      "           U       1.00      0.96      0.98       235\n",
      "           V       0.97      0.94      0.96       228\n",
      "           W       0.98      0.95      0.96       250\n",
      "           X       0.97      0.95      0.96       237\n",
      "           Y       0.97      0.95      0.96       252\n",
      "           Z       0.99      0.97      0.98       231\n",
      "\n",
      "    accuracy                           0.95      6000\n",
      "   macro avg       0.95      0.95      0.95      6000\n",
      "weighted avg       0.95      0.95      0.95      6000\n",
      "\n",
      "\n",
      "confusion_matrix:\n",
      "\n",
      " [[228   0   0   0   0   0   0   1   0   0   0   0   0   0   0   0   0   0\n",
      "    0   0   0   0   0   0   0   0]\n",
      " [  0 220   0   0   0   0   0   2   0   0   0   0   0   0   0   0   0   4\n",
      "    0   0   0   0   0   2   0   0]\n",
      " [  0   0 212   0   1   0   3   0   0   0   0   0   0   0   1   0   1   0\n",
      "    0   0   0   1   1   0   0   0]\n",
      " [  0   3   0 212   0   0   0   1   0   0   0   0   0   1   1   0   0   1\n",
      "    0   0   0   0   0   0   0   0]\n",
      " [  0   1   4   0 217   1   3   1   0   0   0   0   0   0   0   0   0   0\n",
      "    1   0   0   0   0   1   0   3]\n",
      " [  0   1   0   1   1 206   0   0   2   0   0   0   0   1   0   9   0   0\n",
      "    0   2   0   1   1   0   0   0]\n",
      " [  0   2   1   4   5   0 213   0   0   0   1   0   0   0   6   0   1   0\n",
      "    0   0   0   0   1   0   0   0]\n",
      " [  0   5   1   6   0   0   2 186   0   0   3   0   0   0   0   0   0   3\n",
      "    0   0   0   0   0   0   0   0]\n",
      " [  0   0   1   1   0   0   0   0 231   3   0   0   0   0   0   0   0   0\n",
      "    0   0   0   0   0   0   0   0]\n",
      " [  0   0   0   1   0   0   0   0  13 193   0   0   0   2   0   0   0   0\n",
      "    0   0   0   0   0   0   0   0]\n",
      " [  0   3   0   0   2   0   0  10   0   0 191   0   0   0   0   0   0   2\n",
      "    0   0   0   0   0   5   0   0]\n",
      " [  0   2   1   1   1   0   2   3   0   0   1 227   0   0   0   0   0   1\n",
      "    0   0   0   0   0   0   0   0]\n",
      " [  0   3   0   0   0   0   0   0   0   0   0   0 235   0   0   0   0   0\n",
      "    0   0   0   0   2   0   0   0]\n",
      " [  0   1   0   8   0   0   0   1   0   0   0   0   2 225   1   0   0   0\n",
      "    0   0   0   1   0   0   0   0]\n",
      " [  0   3   3   4   0   0   1   0   0   0   0   0   0   0 231   0   1   0\n",
      "    0   0   0   0   0   0   0   0]\n",
      " [  0   0   1   0   0  13   0   0   0   0   0   0   0   0   0 228   0   1\n",
      "    0   0   0   0   0   0   0   0]\n",
      " [  1   1   0   2   0   0   1   0   0   0   0   0   0   0   6   0 217   0\n",
      "    0   0   0   0   0   0   0   0]\n",
      " [  0   7   0   0   1   0   0   1   0   0   2   1   0   2   0   0   0 216\n",
      "    0   0   0   0   0   0   0   0]\n",
      " [  0   0   0   1   2   2   0   0   0   0   1   0   0   0   0   0   0   0\n",
      "  214   0   0   0   0   0   0   0]\n",
      " [  0   2   0   0   0   0   0   0   0   0   0   0   0   0   0   0   0   0\n",
      "    0 226   0   0   0   0   6   0]\n",
      " [  1   2   0   0   0   0   0   4   0   0   0   0   2   0   0   0   0   0\n",
      "    0   0 226   0   0   0   0   0]\n",
      " [  1   9   0   0   0   0   0   0   0   0   0   0   1   0   0   0   0   0\n",
      "    0   0   0 215   1   0   1   0]\n",
      " [  0   0   0   0   0   0   0   0   0   0   0   0   4   0   5   0   0   1\n",
      "    0   0   1   1 238   0   0   0]\n",
      " [  0   1   0   3   2   0   0   0   0   0   5   0   0   0   0   0   0   0\n",
      "    1   0   0   0   0 225   0   0]\n",
      " [  0   0   0   0   0   0   0   0   0   0   0   1   2   0   0   2   0   0\n",
      "    0   4   0   3   0   0 240   0]\n",
      " [  0   0   0   0   0   0   0   0   0   1   0   0   0   0   0   0   4   0\n",
      "    0   1   0   0   0   0   0 225]]\n",
      "\n",
      "\n",
      "Accuracy: 0.9495\n"
     ]
    }
   ],
   "source": [
    "q2pred = votingmodel.predict(X_test)\n",
    "print('Classification Report:\\n\\n', classification_report(Y_test, q2pred))\n",
    "print('\\nconfusion_matrix:\\n\\n', confusion_matrix(Y_test, q2pred))\n",
    "print('\\n\\nAccuracy:', accuracy_score(Y_test, q2pred))"
   ]
  },
  {
   "cell_type": "markdown",
   "metadata": {},
   "source": [
    "<h1>Q3</h1>"
   ]
  },
  {
   "cell_type": "code",
   "execution_count": null,
   "metadata": {},
   "outputs": [],
   "source": [
    "import random\n",
    "featureset = []\n",
    "\n",
    "for i in range(0,5):\n",
    "    x = random.sample(range(1, 17), 10)\n",
    "    featureset.append(x)\n"
   ]
  },
  {
   "cell_type": "code",
   "execution_count": null,
   "metadata": {},
   "outputs": [],
   "source": [
    "q3dtree = []\n",
    "\n",
    "for num in range(0, 5):\n",
    "    q3dtree.append(DecisionTreeClassifier(random_state=30, criterion='entropy'))"
   ]
  },
  {
   "cell_type": "code",
   "execution_count": null,
   "metadata": {},
   "outputs": [
    {
     "name": "stdout",
     "output_type": "stream",
     "text": [
      "Cross Validation score using Feature Set  0 = 0.834\n",
      "\n",
      "\n",
      "Cross Validation score using Feature Set  1 = 0.8155714285714286\n",
      "\n",
      "\n",
      "Cross Validation score using Feature Set  2 = 0.7899285714285715\n",
      "\n",
      "\n",
      "Cross Validation score using Feature Set  3 = 0.8300714285714286\n",
      "\n",
      "\n",
      "Cross Validation score using Feature Set  4 = 0.7577857142857143\n",
      "\n",
      "\n"
     ]
    }
   ],
   "source": [
    "for k in range(0, 5):\n",
    "    q3X = df[df.columns[featureset[k]]]\n",
    "    q3X_train, q3X_test, q3Y_train, q3Y_test = train_test_split(q3X, Y, test_size=0.3, random_state=30)\n",
    "    q3dtree[k].fit(q3X_train, q3Y_train)\n",
    "    q3score = cross_val_score(q3dtree[k], q3X_train, q3Y_train, scoring='accuracy', cv=5)\n",
    "    print('Cross Validation score using Feature Set ', k, '=', q3score.mean())\n",
    "    #prediction = q3dtree[k].predict(q3X_test)\n",
    "    #print('Accuracy using feature set ', k, '=', accuracy_score(q3Y_test, prediction))\n",
    "    print('\\n')"
   ]
  },
  {
   "cell_type": "code",
   "execution_count": null,
   "metadata": {},
   "outputs": [
    {
     "name": "stdout",
     "output_type": "stream",
     "text": [
      "Accuracy of Ensemble= 0.8651666666666666\n"
     ]
    }
   ],
   "source": [
    "q3votingmodel = VotingClassifier(estimators=[('feature1', q3dtree[0]), ('feature2', q3dtree[1]), ('feature3', q3dtree[2]), ('feature4', q3dtree[3]), ('feature5', q3dtree[4])], voting='hard')\n",
    "q3votingmodel.fit(X_train, Y_train)\n",
    "\n",
    "q3predict = q3votingmodel.predict(X_test)\n",
    "print('Accuracy of Ensemble=', accuracy_score(Y_test, q3predict))"
   ]
  }
 ],
 "metadata": {
  "kernelspec": {
   "display_name": "Python 3.9.7 ('base')",
   "language": "python",
   "name": "python3"
  },
  "language_info": {
   "codemirror_mode": {
    "name": "ipython",
    "version": 3
   },
   "file_extension": ".py",
   "mimetype": "text/x-python",
   "name": "python",
   "nbconvert_exporter": "python",
   "pygments_lexer": "ipython3",
   "version": "3.9.16"
  },
  "orig_nbformat": 4,
  "vscode": {
   "interpreter": {
    "hash": "2469a70536e4d2335a2ea8907942d0699c37342a371ac185bdb5b0aa6f073890"
   }
  }
 },
 "nbformat": 4,
 "nbformat_minor": 2
}
